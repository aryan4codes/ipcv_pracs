{
 "cells": [
  {
   "cell_type": "code",
   "execution_count": 68,
   "metadata": {},
   "outputs": [
    {
     "name": "stderr",
     "output_type": "stream",
     "text": [
      "C:\\Users\\INTEL\\AppData\\Local\\Temp\\ipykernel_31028\\1009258840.py:16: FutureWarning: Series.__getitem__ treating keys as positions is deprecated. In a future version, integer keys will always be treated as labels (consistent with DataFrame behavior). To access a value by position, use `ser.iloc[pos]`\n",
      "  label = row[0]  # First column is the label\n"
     ]
    }
   ],
   "source": [
    "import pandas as pd\n",
    "import numpy as np\n",
    "from PIL import Image\n",
    "import os\n",
    "\n",
    "# Load MNIST dataset from CSV\n",
    "mnist_csv_path = r\"C:\\Users\\INTEL\\OneDrive\\Desktop\\IPCV_PRACS\\data\\mnist_test.csv\"  \n",
    "data = pd.read_csv(mnist_csv_path)\n",
    "\n",
    "# Create a directory to save images\n",
    "output_dir = r\"C:\\Users\\INTEL\\OneDrive\\Desktop\\IPCV_PRACS\\data\"\n",
    "os.makedirs(output_dir, exist_ok=True)\n",
    "count = 0\n",
    "# Convert rows to images\n",
    "for index, row in data.iterrows():\n",
    "    label = row[0]  # First column is the label\n",
    "    pixels = row[1:].values  # Remaining columns are pixel values\n",
    "    pixels = pixels.reshape(28, 28).astype(np.uint8)  # Reshape to 28x28 and convert to uint8\n",
    "\n",
    "    # Create a PIL image\n",
    "    img = Image.fromarray(pixels)\n",
    "    \n",
    "    # Save the image with label in the filename\n",
    "    img.save(f\"{output_dir}/digit_{label}_{index}.png\")\n",
    "    \n",
    "    if index < 10:  # Show a few images as examples\n",
    "        img.show(title=f\"Digit: {label}\")\n",
    "\n",
    "    count +=1 \n",
    "\n",
    "    if count>10:\n",
    "        break\n"
   ]
  },
  {
   "cell_type": "code",
   "execution_count": null,
   "metadata": {},
   "outputs": [],
   "source": [
    "# Define the directory containing the images\n",
    "mnist_images = r\"C:\\Users\\INTEL\\OneDrive\\Desktop\\IPCV_PRACS\\data\"\n",
    "\n",
    "# Load an example image\n",
    "example_image_path = f\"{mnist_images}\\\\digit_9_9992.png\" \n",
    "img = Image.open(example_image_path)\n",
    "\n",
    "img.show(title=\"Original Image\")\n",
    "\n",
    "\n",
    "grayscale_img = img.convert(\"L\")\n",
    "grayscale_img.show(title=\"Grayscale Image\")\n"
   ]
  },
  {
   "cell_type": "code",
   "execution_count": 10,
   "metadata": {},
   "outputs": [],
   "source": [
    "# Crop Image (Top-left corner)\n",
    "cropped_img = img.crop((5, 5, 20, 20))  # Define (left, upper, right, lower)\n",
    "\n",
    "# Display Cropped Image\n",
    "cropped_img.show(title=\"Cropped Image\")\n"
   ]
  },
  {
   "cell_type": "code",
   "execution_count": null,
   "metadata": {},
   "outputs": [],
   "source": [
    "from PIL import Image\n",
    "import numpy as np\n",
    "\n",
    "\n",
    "example_image_path_1 = Image.open(r\"C:\\Users\\Aaditya\\Desktop\\ipcv_pracs\\mnist_images\\digit_9_9992.png\")  \n",
    "example_image_path = Image.open(r\"C:\\Users\\Aaditya\\Desktop\\ipcv_pracs\\mnist_images\\digit_0_3.png\") \n",
    "\n",
    "\n",
    "example_image_path_1 = example_image_path_1.resize((28, 28))\n",
    "example_image_path = example_image_path.resize((28, 28))\n",
    "\n",
    "\n",
    "arr1 = np.array(example_image_path_1)\n",
    "arr2 = np.array(example_image_path)\n",
    "\n",
    "added_arr = np.clip(arr1 + arr2, 0, 255)  # Clip values to the range [0, 255]\n",
    "\n",
    "# Convert the resulting array back to a Pillow image\n",
    "added_img = Image.fromarray(added_arr.astype(np.uint8))\n",
    "\n",
    "# Display the resulting image\n",
    "added_img.show(title=\"Added Image\")\n"
   ]
  },
  {
   "cell_type": "code",
   "execution_count": 20,
   "metadata": {},
   "outputs": [],
   "source": [
    "subtrace_arr = np.clip(arr1 - arr2, 0, 255)  # Clip values to the range [0, 255]\n",
    "\n",
    "# Convert the resulting array back to a Pillow image\n",
    "subtrace_img = Image.fromarray(subtrace_arr.astype(np.uint8))\n",
    "\n",
    "# Display the resulting image\n",
    "subtrace_img.show(title=\"Subtracted Image\")"
   ]
  },
  {
   "cell_type": "code",
   "execution_count": 21,
   "metadata": {},
   "outputs": [],
   "source": [
    "multiply_arr = np.clip(arr1 * arr2, 0, 255)  # Clip values to the range [0, 255]\n",
    "\n",
    "# Convert the resulting array back to a Pillow image\n",
    "multiply_img = Image.fromarray(multiply_arr.astype(np.uint8))\n",
    "\n",
    "# Display the resulting image\n",
    "multiply_img.show(title=\"Multiplied Image\") "
   ]
  },
  {
   "cell_type": "code",
   "execution_count": 22,
   "metadata": {},
   "outputs": [
    {
     "name": "stderr",
     "output_type": "stream",
     "text": [
      "C:\\Users\\Aaditya\\AppData\\Local\\Temp\\ipykernel_23932\\1637105206.py:1: RuntimeWarning: divide by zero encountered in divide\n",
      "  divide_arr = np.clip(arr1 / arr2, 0, 255)  # Clip values to the range [0, 255]\n",
      "C:\\Users\\Aaditya\\AppData\\Local\\Temp\\ipykernel_23932\\1637105206.py:1: RuntimeWarning: invalid value encountered in divide\n",
      "  divide_arr = np.clip(arr1 / arr2, 0, 255)  # Clip values to the range [0, 255]\n",
      "C:\\Users\\Aaditya\\AppData\\Local\\Temp\\ipykernel_23932\\1637105206.py:4: RuntimeWarning: invalid value encountered in cast\n",
      "  divide_img = Image.fromarray(divide_arr.astype(np.uint8))\n"
     ]
    }
   ],
   "source": [
    "divide_arr = np.clip(arr1 / arr2, 0, 255)  # Clip values to the range [0, 255]\n",
    "\n",
    "# Convert the resulting array back to a Pillow image\n",
    "divide_img = Image.fromarray(divide_arr.astype(np.uint8))\n",
    "\n",
    "# Display the resulting image\n",
    "divide_img.show(title=\"Divided Image\")"
   ]
  },
  {
   "cell_type": "code",
   "execution_count": 23,
   "metadata": {},
   "outputs": [],
   "source": [
    "and_arr = np.clip(arr1 & arr2, 0, 255)  # Clip values to the range [0, 255] \n",
    "\n",
    "# Convert the resulting array back to a Pillow image\n",
    "and_img = Image.fromarray(and_arr.astype(np.uint8)) \n",
    "\n",
    "# Display the resulting image   \n",
    "and_img.show(title=\"AND Image\")"
   ]
  },
  {
   "cell_type": "code",
   "execution_count": 24,
   "metadata": {},
   "outputs": [],
   "source": [
    "or_arr = np.clip(arr1 | arr2, 0, 255)  # Clip values to the range [0, 255]  \n",
    "\n",
    "# Convert the resulting array back to a Pillow image\n",
    "or_img = Image.fromarray(or_arr.astype(np.uint8))\n",
    "\n",
    "# Display the resulting image\n",
    "or_img.show(title=\"OR Image\")"
   ]
  },
  {
   "cell_type": "code",
   "execution_count": 25,
   "metadata": {},
   "outputs": [],
   "source": [
    "not_arr = np.clip(~arr1, 0, 255)  # Clip values to the range [0, 255]\n",
    "\n",
    "# Convert the resulting array back to a Pillow image\n",
    "not_img = Image.fromarray(not_arr.astype(np.uint8))\n",
    "\n",
    "# Display the resulting image\n",
    "not_img.show(title=\"NOT Image\")"
   ]
  },
  {
   "cell_type": "code",
   "execution_count": 26,
   "metadata": {},
   "outputs": [],
   "source": [
    "xor_arr = np.clip(arr1 ^ arr2, 0, 255)  # Clip values to the range [0, 255]\n",
    "\n",
    "# Convert the resulting array back to a Pillow image\n",
    "xor_img = Image.fromarray(xor_arr.astype(np.uint8)) \n",
    "\n",
    "# Display the resulting image\n",
    "xor_img.show(title=\"XOR Image\") "
   ]
  },
  {
   "cell_type": "code",
   "execution_count": 27,
   "metadata": {},
   "outputs": [],
   "source": [
    "left_shift_arr = np.clip(arr1 << 2, 0, 255)  # Clip values to the range [0, 255]\n",
    "\n",
    "\n",
    "# Convert the resulting array back to a Pillow image\n",
    "left_shift_img = Image.fromarray(left_shift_arr.astype(np.uint8))\n",
    "\n",
    "# Display the resulting image\n",
    "left_shift_img.show(title=\"Left Shift Image\")\n"
   ]
  },
  {
   "cell_type": "code",
   "execution_count": 28,
   "metadata": {},
   "outputs": [],
   "source": [
    "right_shift_arr = np.clip(arr1 >> 2, 0, 255)  # Clip values to the range [0, 255]\n",
    "\n",
    "# Convert the resulting array back to a Pillow image\n",
    "right_shift_img = Image.fromarray(right_shift_arr.astype(np.uint8))\n",
    "\n",
    "# Display the resulting image\n",
    "right_shift_img.show(title=\"Right Shift Image\")"
   ]
  },
  {
   "cell_type": "code",
   "execution_count": null,
   "metadata": {},
   "outputs": [],
   "source": []
  }
 ],
 "metadata": {
  "kernelspec": {
   "display_name": "Python 3 (ipykernel)",
   "language": "python",
   "name": "python3"
  }
 },
 "nbformat": 4,
 "nbformat_minor": 2
}
