{
 "cells": [
  {
   "cell_type": "code",
   "execution_count": 14,
   "metadata": {},
   "outputs": [
    {
     "data": {
      "image/png": "[encoded data removed]",
      "text/plain": [
       "<Figure size 640x480 with 1 Axes>"
      ]
     },
     "metadata": {},
     "output_type": "display_data"
    }
   ],
   "source": [
    "import pandas as pd\n",
    "from PIL import Image, ImageOps\n",
    "import numpy as np\n",
    "import os\n",
    "import random\n",
    "import matplotlib.pyplot as plt\n",
    "\n",
    "\n",
    "csv_file = r\"C:\\Users\\INTEL\\OneDrive\\Desktop\\IPCV_PRACS\\data\\mnist_test.csv\"  # Replace with the provided file name\n",
    "data = pd.read_csv(csv_file)\n",
    "\n",
    "labels = data.iloc[:, 0]  # First column: Labels\n",
    "pixels = data.iloc[:, 1:]  # Remaining columns: Pixel data\n",
    "\n",
    "# Directory to save images\n",
    "output_dir = r\"C:\\Users\\INTEL\\OneDrive\\Desktop\\IPCV_PRACS\\data\"\n",
    "os.makedirs(output_dir, exist_ok=True)\n",
    "\n",
    "# for idx, (label, pixel_values) in enumerate(zip(labels, pixels.values)):\n",
    "#     image_array = pixel_values.reshape(28, 28).astype(np.uint8)\n",
    "#     img = Image.fromarray(image_array)\n",
    "#     img.save(f\"{output_dir}/{label}_{idx}.png\")\n",
    "#     if idx >= 10: \n",
    "#         break\n",
    "\n",
    "\n",
    "image_files = [f for f in os.listdir(output_dir) if f.endswith(\".png\")]\n",
    "random_image_file = random.choice(image_files)\n",
    "random_image_path = os.path.join(output_dir, random_image_file)\n",
    "random_img = Image.open(random_image_path)\n",
    "\n",
    "\n",
    "plt.imshow(random_img, cmap=\"gray\")\n",
    "plt.axis('off')  \n",
    "plt.show()\n",
    "\n",
    "\n"
   ]
  },
  {
   "cell_type": "markdown",
   "metadata": {},
   "source": [
    "## Region Growing Segmentation"
   ]
  },
  {
   "cell_type": "code",
   "execution_count": 15,
   "metadata": {},
   "outputs": [
    {
     "data": {
      "text/plain": [
       "Text(0.5, 1.0, 'Region Growinng')"
      ]
     },
     "execution_count": 15,
     "metadata": {},
     "output_type": "execute_result"
    },
    {
     "data": {
      "image/png": "[encoded data removed]",
      "text/plain": [
       "<Figure size 640x480 with 2 Axes>"
      ]
     },
     "metadata": {},
     "output_type": "display_data"
    }
   ],
   "source": [
    "def region_growing(img, thresh):\n",
    "    r, c = img.shape\n",
    "    seed = (random.randint(0, r - 1), random.randint(0, c - 1))\n",
    "\n",
    "    seg = np.zeros_like(img, dtype=np.uint8)\n",
    "    seed_x, seed_y = seed\n",
    "    seg[seed_x, seed_y] = 255\n",
    "    region_mean = img[seed_x, seed_y]\n",
    "\n",
    "    growing = True\n",
    "    pixels = [(seed_x, seed_y)]\n",
    "\n",
    "    while growing:\n",
    "        new_pixels = []\n",
    "        for x, y in pixels:\n",
    "            for dx, dy in [(1, 0), (-1, 0), (0, 1), (0, -1)]:\n",
    "                nx, ny = x + dx, y + dy\n",
    "\n",
    "                if 0 <= nx < r and 0 <= ny < c and seg[nx, ny] == 0:\n",
    "                    if abs(int(img[nx, ny]) - region_mean) < thresh:\n",
    "                        seg[nx, ny] = 255\n",
    "                        new_pixels.append((nx, ny))\n",
    "\n",
    "        if new_pixels:\n",
    "            region_mean = np.mean([img[x, y] for x, y in new_pixels])\n",
    "            pixels = new_pixels\n",
    "        else:\n",
    "            growing = False\n",
    "\n",
    "    return seg\n",
    "\n",
    "\n",
    "image_array = np.array(random_img)\n",
    "final = region_growing(image_array,60)\n",
    "\n",
    "plt.subplot(1,2,1)\n",
    "plt.imshow(random_img, cmap='gray')\n",
    "plt.title('Original Image')\n",
    "\n",
    "plt.subplot(1,2,2)\n",
    "plt.imshow(final, cmap='gray')\n",
    "plt.title(\"Region Growinng\")"
   ]
  },
  {
   "cell_type": "markdown",
   "metadata": {},
   "source": [
    "### Split and Merge"
   ]
  },
  {
   "cell_type": "code",
   "execution_count": 16,
   "metadata": {},
   "outputs": [
    {
     "data": {
      "text/plain": [
       "Text(0.5, 1.0, 'Split and Merge')"
      ]
     },
     "execution_count": 16,
     "metadata": {},
     "output_type": "execute_result"
    },
    {
     "data": {
      "image/png": "[encoded data removed]",
      "text/plain": [
       "<Figure size 640x480 with 2 Axes>"
      ]
     },
     "metadata": {},
     "output_type": "display_data"
    }
   ],
   "source": [
    "def merge_regions(regions):\n",
    "    while True:\n",
    "        merged = False\n",
    "        new_regions = []\n",
    "        while regions:\n",
    "            current = regions.pop()\n",
    "            was_merged = False\n",
    "\n",
    "            for idx, region in enumerate(new_regions):\n",
    "                if abs(np.mean(region) - np.mean(current)) < 5:\n",
    "                    new_regions[idx] = np.vstack([region, current])\n",
    "                    was_merged = True\n",
    "                    merged = True\n",
    "                    break\n",
    "\n",
    "            if not was_merged:\n",
    "                new_regions.append(current)\n",
    "\n",
    "        regions = new_regions\n",
    "        if not merged:\n",
    "            break\n",
    "    return regions\n",
    "\n",
    "\n",
    "def split_and_merge(image, num_regions):\n",
    "    r, c = image.shape\n",
    "    step = r // num_regions\n",
    "\n",
    "    regions = [np.arange(i, min(i + step, r)) for i in range(0, r, step)]\n",
    "    regions = merge_regions(regions)\n",
    "\n",
    "    output_image = np.zeros_like(image, dtype=np.uint8)\n",
    "    for region in regions:\n",
    "        for row in region:\n",
    "            output_image[row, :] = ((np.mean(image[region, :]) - image[row, :]) < 10) * 255\n",
    "\n",
    "    return output_image\n",
    "\n",
    "\n",
    "\n",
    "split_and_merge_image = split_and_merge(image_array,2)\n",
    "\n",
    "plt.subplot(1,2,1)\n",
    "plt.imshow(random_img, cmap='gray')\n",
    "plt.title('Original Image')\n",
    "\n",
    "plt.subplot(1,2,2)\n",
    "plt.imshow(split_and_merge_image, cmap='gray')\n",
    "plt.title(\"Split and Merge\")"
   ]
  }
 ],
 "metadata": {
  "kernelspec": {
   "display_name": "Python 3 (ipykernel)",
   "language": "python",
   "name": "python3"
  },
  "language_info": {
   "codemirror_mode": {
    "name": "ipython",
    "version": 3
   },
   "file_extension": ".py",
   "mimetype": "text/x-python",
   "name": "python",
   "nbconvert_exporter": "python",
   "pygments_lexer": "ipython3",
   "version": "3.10.9"
  }
 },
 "nbformat": 4,
 "nbformat_minor": 2
}
