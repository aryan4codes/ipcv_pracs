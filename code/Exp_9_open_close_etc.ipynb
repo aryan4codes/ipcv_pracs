{
 "cells": [
  {
   "cell_type": "code",
   "execution_count": 3,
   "metadata": {},
   "outputs": [
    {
     "data": {
      "image/png": "[encoded data removed]",
      "text/plain": [
       "<Figure size 640x480 with 1 Axes>"
      ]
     },
     "metadata": {},
     "output_type": "display_data"
    }
   ],
   "source": [
    "import pandas as pd\n",
    "from PIL import Image, ImageOps\n",
    "import numpy as np\n",
    "import os\n",
    "import random\n",
    "import matplotlib.pyplot as plt\n",
    "\n",
    "\n",
    "csv_file = r\"C:\\Users\\INTEL\\OneDrive\\Desktop\\IPCV_PRACS\\data\\mnist_test.csv\"  # Replace with the provided file name\n",
    "data = pd.read_csv(csv_file)\n",
    "\n",
    "labels = data.iloc[:, 0]  # First column: Labels\n",
    "pixels = data.iloc[:, 1:]  # Remaining columns: Pixel data\n",
    "\n",
    "# Directory to save images\n",
    "output_dir = r\"C:\\Users\\INTEL\\OneDrive\\Desktop\\IPCV_PRACS\\data\"\n",
    "os.makedirs(output_dir, exist_ok=True)\n",
    "\n",
    "# for idx, (label, pixel_values) in enumerate(zip(labels, pixels.values)):\n",
    "#     image_array = pixel_values.reshape(28, 28).astype(np.uint8)\n",
    "#     img = Image.fromarray(image_array)\n",
    "#     img.save(f\"{output_dir}/{label}_{idx}.png\")\n",
    "#     if idx >= 10: \n",
    "#         break\n",
    "\n",
    "\n",
    "image_files = [f for f in os.listdir(output_dir) if f.endswith(\".png\")]\n",
    "random_image_file = random.choice(image_files)\n",
    "random_image_path = os.path.join(output_dir, random_image_file)\n",
    "random_img = Image.open(random_image_path)\n",
    "\n",
    "\n",
    "plt.imshow(random_img, cmap=\"gray\")\n",
    "plt.axis('off')  \n",
    "plt.show()\n",
    "\n",
    "\n"
   ]
  },
  {
   "cell_type": "code",
   "execution_count": null,
   "metadata": {},
   "outputs": [],
   "source": [
    "def erosion(image, s):\n",
    "    # Ensure the image is binary (values should be either 0 or 1)\n",
    "    image = (image >= 1).astype(np.uint8)\n",
    "    \n",
    "    # Create an empty image for the result\n",
    "    new_image = np.zeros_like(image)\n",
    "    \n",
    "    n, m = image.shape\n",
    "    elem_h, elem_w = s.shape\n",
    "    \n",
    "    pad_h, pad_w = elem_h // 2, elem_w // 2\n",
    "    \n",
    "    # Pad the image to handle borders\n",
    "    padded_img = np.pad(image, ((pad_h, pad_h), (pad_w, pad_w)), mode='constant', constant_values=0)\n",
    "    \n",
    "    # Perform the erosion operation\n",
    "    for i in range(n):\n",
    "        for j in range(m):\n",
    "            # Extract the neighbourhood region corresponding to the kernel size\n",
    "            neighbourhood = padded_img[i:i + elem_h, j:j + elem_w]\n",
    "            \n",
    "            # Check if the kernel fits in the neighbourhood\n",
    "            if np.all(neighbourhood[s == 1] == 1):\n",
    "                new_image[i, j] = 1  # Set pixel to 1 if the kernel fits\n",
    "    \n",
    "    return new_image"
   ]
  },
  {
   "cell_type": "code",
   "execution_count": 6,
   "metadata": {},
   "outputs": [],
   "source": [
    "def dilate(image_array, kernel):\n",
    "    \"\"\"Perform dilation on the image.\"\"\"\n",
    "    kernel_height, kernel_width = kernel.shape\n",
    "    pad_h, pad_w = kernel_height // 2, kernel_width // 2\n",
    "    padded_image = np.pad(image_array, ((pad_h, pad_h), (pad_w, pad_w)), mode=\"constant\", constant_values=0)\n",
    "    \n",
    "    result = np.zeros_like(image_array)\n",
    "    for i in range(image_array.shape[0]):\n",
    "        for j in range(image_array.shape[1]):\n",
    "            region = padded_image[i:i + kernel_height, j:j + kernel_width]\n",
    "            if np.any(region & kernel):  # Check if any pixel matches the kernel\n",
    "                result[i, j] = 255\n",
    "    return result\n"
   ]
  },
  {
   "cell_type": "code",
   "execution_count": 7,
   "metadata": {},
   "outputs": [],
   "source": [
    "def opening(image_array, kernel):\n",
    "    \"\"\"Perform opening on the image.\"\"\"\n",
    "    eroded = erode(image_array, kernel)\n",
    "    opened = dilate(eroded, kernel)\n",
    "    return opened\n"
   ]
  },
  {
   "cell_type": "code",
   "execution_count": 8,
   "metadata": {},
   "outputs": [],
   "source": [
    "def closing(image_array, kernel):\n",
    "    \"\"\"Perform closing on the image.\"\"\"\n",
    "    dilated = dilate(image_array, kernel)\n",
    "    closed = erode(dilated, kernel)\n",
    "    return closed\n"
   ]
  },
  {
   "cell_type": "code",
   "execution_count": null,
   "metadata": {},
   "outputs": [
    {
     "data": {
      "image/png": "[encoded data removed]",
      "text/plain": [
       "<Figure size 1500x500 with 5 Axes>"
      ]
     },
     "metadata": {},
     "output_type": "display_data"
    }
   ],
   "source": [
    "\n",
    "binary_img = random_img.convert(\"L\")  \n",
    "binary_array = np.array(binary_img)\n",
    "\n",
    "\n",
    "kernel = np.array([[0,1,0],\n",
    "                   [1,1,1],\n",
    "                   [0,1,0]])\n",
    "\n",
    "# Perform morphological operations\n",
    "eroded_img = erode(binary_array, kernel)\n",
    "dilated_img = dilate(binary_array, kernel)\n",
    "opened_img = opening(binary_array, kernel)\n",
    "closed_img = closing(binary_array, kernel)\n",
    "\n",
    "# Display the results\n",
    "fig, axes = plt.subplots(1, 5, figsize=(15, 5))\n",
    "axes[0].imshow(binary_array, cmap=\"gray\")\n",
    "axes[0].set_title(\"Original\")\n",
    "axes[1].imshow(eroded_img, cmap=\"gray\")\n",
    "axes[1].set_title(\"Eroded\")\n",
    "axes[2].imshow(dilated_img, cmap=\"gray\")\n",
    "axes[2].set_title(\"Dilated\")\n",
    "axes[3].imshow(opened_img, cmap=\"gray\")\n",
    "axes[3].set_title(\"Opened\")\n",
    "axes[4].imshow(closed_img, cmap=\"gray\")\n",
    "axes[4].set_title(\"Closed\")\n",
    "for ax in axes:\n",
    "    ax.axis(\"off\")\n",
    "plt.show()\n"
   ]
  },
  {
   "cell_type": "code",
   "execution_count": null,
   "metadata": {},
   "outputs": [],
   "source": []
  },
  {
   "cell_type": "code",
   "execution_count": null,
   "metadata": {},
   "outputs": [],
   "source": []
  }
 ],
 "metadata": {
  "kernelspec": {
   "display_name": "Python 3 (ipykernel)",
   "language": "python",
   "name": "python3"
  },
  "language_info": {
   "codemirror_mode": {
    "name": "ipython",
    "version": 3
   },
   "file_extension": ".py",
   "mimetype": "text/x-python",
   "name": "python",
   "nbconvert_exporter": "python",
   "pygments_lexer": "ipython3",
   "version": "3.10.9"
  }
 },
 "nbformat": 4,
 "nbformat_minor": 2
}
